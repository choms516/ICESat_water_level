{
 "cells": [
  {
   "cell_type": "markdown",
   "metadata": {},
   "source": [
    "# Time-series ICESat1 & 2\n",
    "\n",
    "1. Plotting time-series ICESat 1\n",
    "2. Plotting time-series ICESat 1 & 2\n",
    "3. Plotting them using box and whisker plot"
   ]
  },
  {
   "cell_type": "markdown",
   "metadata": {},
   "source": [
    "## Plotting time-series ICESat 1\n",
    "\n",
    "### Load the ICESat 1"
   ]
  },
  {
   "cell_type": "code",
   "execution_count": 1,
   "metadata": {},
   "outputs": [],
   "source": [
    "import os\n",
    "from pathlib import Path\n",
    "import h5py\n",
    "import pandas as pd\n",
    "import geopandas as gpd\n",
    "import matplotlib.pyplot as plt\n",
    "import cartopy.crs as ccrs\n",
    "import cartopy.io.img_tiles as cimgt\n",
    "import time\n",
    "from astropy.time import Time\n",
    "import datetime\n",
    "%matplotlib widget\n",
    "%load_ext autoreload\n",
    "%autoreload 2"
   ]
  },
  {
   "cell_type": "code",
   "execution_count": 2,
   "metadata": {},
   "outputs": [],
   "source": [
    "def glah14_to_df(filename,bounds):\n",
    "    ## sp_ex = [103.643, 104.667, 12.375, 13.287]\n",
    "    ## Bounds are [Longitude_West, Longitude_East, Latitude_South, Latitude_North]\n",
    "    f = h5py.File(filename, 'r')\n",
    "    lat = f['Data_40HZ']['Geolocation']['d_lat'][:]\n",
    "    lon = f['Data_40HZ']['Geolocation']['d_lon'][:]\n",
    "    elev = f['Data_40HZ']['Elevation_Surfaces']['d_elev'][:]\n",
    "    sec = f['Data_40HZ']['Elevation_Corrections']['d_satElevCorr'][:]\n",
    "    scf = f['Data_40HZ']['Quality']['sat_corr_flg'][:]\n",
    "    satndx = f['Data_40HZ']['Quality']['i_satNdx'][:]\n",
    "    dem = f['Data_40HZ']['Geophysical']['d_DEM_elv'][:]\n",
    "    date_gps = f['Data_40HZ']['DS_UTCTime_40'][1] + 630763213 \n",
    "    date_ymd = Time(date_gps,format='gps').datetime.strftime(\"%Y-%m-%d\")\n",
    "    \n",
    "    glah14_df = pd.DataFrame({'Latitude':lat,'Longitude':lon,'Elevation':elev,\n",
    "                            's_El_Corr':sec, 's_Corr_f':scf,'in_sat':satndx,\n",
    "                            'DEM':dem,'Date':date_ymd})\n",
    "    #### Subsetting\n",
    "    glah14_df_subset = glah14_df.loc[(glah14_df['Longitude']>=bounds[0]) \n",
    "                          & (glah14_df['Longitude']<=bounds[1])\n",
    "                          & (glah14_df['Latitude']>=bounds[2])\n",
    "                          & (glah14_df['Latitude']<=bounds[3])]\n",
    "    return glah14_df_subset"
   ]
  },
  {
   "cell_type": "code",
   "execution_count": 3,
   "metadata": {},
   "outputs": [],
   "source": [
    "##### load files\n",
    "## set the directory\n",
    "data_home = Path('/home/jovyan/ICESat_water_level/extraction/icesat/')\n",
    "## list them up and check them\n",
    "files= list(data_home.glob('*.H5'))\n",
    "### Spatial Bounds: \n",
    "tsl_sp_ex = [103.643, 104.667, 12.375, 13.287]\n",
    "### load the water mask\n",
    "tsl_wm = gpd.read_file('/home/jovyan/ICESat_water_level/extraction/shp/tsl_sample_dis.shp') ## water mask: Tonle Sap Lake"
   ]
  },
  {
   "cell_type": "code",
   "execution_count": 4,
   "metadata": {},
   "outputs": [],
   "source": [
    "#### convert to geoDF and clip it. \n",
    "is1_lst = []\n",
    "for num in range(1,len(files)):\n",
    "    gdf = gpd.GeoDataFrame(glah14_to_df(files[num],tsl_sp_ex))\n",
    "    gdf.set_geometry(\n",
    "        gpd.points_from_xy(gdf['Longitude'], gdf['Latitude']),\n",
    "        inplace=True, crs='EPSG:4326')\n",
    "    gdf_wm = gpd.clip(gdf, tsl_wm)\n",
    "    is1_lst.append(gdf_wm)"
   ]
  },
  {
   "cell_type": "markdown",
   "metadata": {},
   "source": [
    "### plotting one track"
   ]
  },
  {
   "cell_type": "code",
   "execution_count": 5,
   "metadata": {},
   "outputs": [
    {
     "data": {
      "application/vnd.jupyter.widget-view+json": {
       "model_id": "f3e0e27abeac493fbeed2d091060000e",
       "version_major": 2,
       "version_minor": 0
      },
      "text/plain": [
       "Canvas(toolbar=Toolbar(toolitems=[('Home', 'Reset original view', 'home', 'home'), ('Back', 'Back to previous …"
      ]
     },
     "metadata": {},
     "output_type": "display_data"
    }
   ],
   "source": [
    "test2 = is1_lst[0]\n",
    "fig=plt.figure(figsize=(6,4))\n",
    "ax = fig.add_subplot(111)\n",
    "ax.plot(test2['Date'],test2['Elevation'],'.',markersize=0.25, label='all segements')\n",
    "h_leg=ax.legend()\n",
    "plt.title('Water Surface_ICESat1')\n",
    "ax.set_xlabel('Date')\n",
    "ax.set_ylabel('Water Surface, m')\n",
    "plt.show()"
   ]
  },
  {
   "cell_type": "markdown",
   "metadata": {},
   "source": [
    "### Removing outliers and plot it."
   ]
  },
  {
   "cell_type": "code",
   "execution_count": 7,
   "metadata": {},
   "outputs": [],
   "source": [
    "### outliers\n",
    "def out_rmv(df,var):\n",
    "    ### lower (25%)\n",
    "    lwq = df[var].quantile(0.25)\n",
    "    ### upper (75%)\n",
    "    hwq = df[var].quantile(0.75)\n",
    "\n",
    "    ### IQR\n",
    "    iqr = hwq - lwq\n",
    "\n",
    "    lw_out = lwq-1.5*iqr\n",
    "    hw_out = hwq+1.5*iqr\n",
    "\n",
    "    ###LSHoutlier > q0.75 + 1.5 ∗ IQR or LSHoutlier < q0.25 − 1.5 ∗ IQR\n",
    "    return df.loc[(df[var] >= lw_out) & (df[var] <= hw_out)]"
   ]
  },
  {
   "cell_type": "code",
   "execution_count": 16,
   "metadata": {},
   "outputs": [
    {
     "name": "stdout",
     "output_type": "stream",
     "text": [
      "0\n",
      "1\n",
      "2\n",
      "Empty DataFrame\n",
      "Columns: []\n",
      "Index: []\n"
     ]
    }
   ],
   "source": [
    "#### convert to geoDF and clip it. \n",
    "gl14_df = pd.DataFrame()\n",
    "date_list = db['Date_num'].unique()\n",
    "for num in range(0,3):\n",
    "    df2pd = pd.DataFrame(out_rmv(is1_lst[num],'Elevation'))\n",
    "    gl14_df.append(df2pd, ignore_index = True)\n",
    "    print(num)\n",
    "print(gl14_df)"
   ]
  },
  {
   "cell_type": "code",
   "execution_count": 15,
   "metadata": {},
   "outputs": [
    {
     "data": {
      "text/html": [
       "<div>\n",
       "<style scoped>\n",
       "    .dataframe tbody tr th:only-of-type {\n",
       "        vertical-align: middle;\n",
       "    }\n",
       "\n",
       "    .dataframe tbody tr th {\n",
       "        vertical-align: top;\n",
       "    }\n",
       "\n",
       "    .dataframe thead th {\n",
       "        text-align: right;\n",
       "    }\n",
       "</style>\n",
       "<table border=\"1\" class=\"dataframe\">\n",
       "  <thead>\n",
       "    <tr style=\"text-align: right;\">\n",
       "      <th></th>\n",
       "      <th>Latitude</th>\n",
       "      <th>Longitude</th>\n",
       "      <th>Elevation</th>\n",
       "      <th>s_El_Corr</th>\n",
       "      <th>s_Corr_f</th>\n",
       "      <th>in_sat</th>\n",
       "      <th>DEM</th>\n",
       "      <th>Date</th>\n",
       "      <th>geometry</th>\n",
       "    </tr>\n",
       "  </thead>\n",
       "  <tbody>\n",
       "    <tr>\n",
       "      <th>159593</th>\n",
       "      <td>13.167806</td>\n",
       "      <td>104.526181</td>\n",
       "      <td>16.961</td>\n",
       "      <td>1.797693e+308</td>\n",
       "      <td>4</td>\n",
       "      <td>16</td>\n",
       "      <td>25.06</td>\n",
       "      <td>2003-11-04</td>\n",
       "      <td>POINT (104.52618 13.16781)</td>\n",
       "    </tr>\n",
       "    <tr>\n",
       "      <th>159875</th>\n",
       "      <td>12.728531</td>\n",
       "      <td>104.464596</td>\n",
       "      <td>-7.943</td>\n",
       "      <td>0.000000e+00</td>\n",
       "      <td>0</td>\n",
       "      <td>0</td>\n",
       "      <td>-10.73</td>\n",
       "      <td>2003-11-04</td>\n",
       "      <td>POINT (104.46460 12.72853)</td>\n",
       "    </tr>\n",
       "    <tr>\n",
       "      <th>159876</th>\n",
       "      <td>12.726976</td>\n",
       "      <td>104.464378</td>\n",
       "      <td>-7.803</td>\n",
       "      <td>0.000000e+00</td>\n",
       "      <td>0</td>\n",
       "      <td>0</td>\n",
       "      <td>-10.70</td>\n",
       "      <td>2003-11-04</td>\n",
       "      <td>POINT (104.46438 12.72698)</td>\n",
       "    </tr>\n",
       "    <tr>\n",
       "      <th>159877</th>\n",
       "      <td>12.725422</td>\n",
       "      <td>104.464161</td>\n",
       "      <td>-7.890</td>\n",
       "      <td>0.000000e+00</td>\n",
       "      <td>0</td>\n",
       "      <td>0</td>\n",
       "      <td>-10.65</td>\n",
       "      <td>2003-11-04</td>\n",
       "      <td>POINT (104.46416 12.72542)</td>\n",
       "    </tr>\n",
       "    <tr>\n",
       "      <th>159878</th>\n",
       "      <td>12.723868</td>\n",
       "      <td>104.463944</td>\n",
       "      <td>-7.868</td>\n",
       "      <td>0.000000e+00</td>\n",
       "      <td>0</td>\n",
       "      <td>0</td>\n",
       "      <td>-10.58</td>\n",
       "      <td>2003-11-04</td>\n",
       "      <td>POINT (104.46394 12.72387)</td>\n",
       "    </tr>\n",
       "    <tr>\n",
       "      <th>...</th>\n",
       "      <td>...</td>\n",
       "      <td>...</td>\n",
       "      <td>...</td>\n",
       "      <td>...</td>\n",
       "      <td>...</td>\n",
       "      <td>...</td>\n",
       "      <td>...</td>\n",
       "      <td>...</td>\n",
       "      <td>...</td>\n",
       "    </tr>\n",
       "    <tr>\n",
       "      <th>159980</th>\n",
       "      <td>12.564955</td>\n",
       "      <td>104.441702</td>\n",
       "      <td>-7.743</td>\n",
       "      <td>0.000000e+00</td>\n",
       "      <td>0</td>\n",
       "      <td>0</td>\n",
       "      <td>-11.11</td>\n",
       "      <td>2003-11-04</td>\n",
       "      <td>POINT (104.44170 12.56495)</td>\n",
       "    </tr>\n",
       "    <tr>\n",
       "      <th>159982</th>\n",
       "      <td>12.561846</td>\n",
       "      <td>104.441274</td>\n",
       "      <td>-7.729</td>\n",
       "      <td>0.000000e+00</td>\n",
       "      <td>0</td>\n",
       "      <td>0</td>\n",
       "      <td>-9.36</td>\n",
       "      <td>2003-11-04</td>\n",
       "      <td>POINT (104.44127 12.56185)</td>\n",
       "    </tr>\n",
       "    <tr>\n",
       "      <th>159983</th>\n",
       "      <td>12.560292</td>\n",
       "      <td>104.441058</td>\n",
       "      <td>-7.768</td>\n",
       "      <td>0.000000e+00</td>\n",
       "      <td>0</td>\n",
       "      <td>0</td>\n",
       "      <td>-9.19</td>\n",
       "      <td>2003-11-04</td>\n",
       "      <td>POINT (104.44106 12.56029)</td>\n",
       "    </tr>\n",
       "    <tr>\n",
       "      <th>159984</th>\n",
       "      <td>12.558739</td>\n",
       "      <td>104.440841</td>\n",
       "      <td>-7.789</td>\n",
       "      <td>0.000000e+00</td>\n",
       "      <td>0</td>\n",
       "      <td>0</td>\n",
       "      <td>-9.00</td>\n",
       "      <td>2003-11-04</td>\n",
       "      <td>POINT (104.44084 12.55874)</td>\n",
       "    </tr>\n",
       "    <tr>\n",
       "      <th>159985</th>\n",
       "      <td>12.557185</td>\n",
       "      <td>104.440623</td>\n",
       "      <td>-7.728</td>\n",
       "      <td>0.000000e+00</td>\n",
       "      <td>0</td>\n",
       "      <td>0</td>\n",
       "      <td>-8.80</td>\n",
       "      <td>2003-11-04</td>\n",
       "      <td>POINT (104.44062 12.55718)</td>\n",
       "    </tr>\n",
       "  </tbody>\n",
       "</table>\n",
       "<p>107 rows × 9 columns</p>\n",
       "</div>"
      ],
      "text/plain": [
       "         Latitude   Longitude  Elevation      s_El_Corr  s_Corr_f  in_sat  \\\n",
       "159593  13.167806  104.526181     16.961  1.797693e+308         4      16   \n",
       "159875  12.728531  104.464596     -7.943   0.000000e+00         0       0   \n",
       "159876  12.726976  104.464378     -7.803   0.000000e+00         0       0   \n",
       "159877  12.725422  104.464161     -7.890   0.000000e+00         0       0   \n",
       "159878  12.723868  104.463944     -7.868   0.000000e+00         0       0   \n",
       "...           ...         ...        ...            ...       ...     ...   \n",
       "159980  12.564955  104.441702     -7.743   0.000000e+00         0       0   \n",
       "159982  12.561846  104.441274     -7.729   0.000000e+00         0       0   \n",
       "159983  12.560292  104.441058     -7.768   0.000000e+00         0       0   \n",
       "159984  12.558739  104.440841     -7.789   0.000000e+00         0       0   \n",
       "159985  12.557185  104.440623     -7.728   0.000000e+00         0       0   \n",
       "\n",
       "          DEM        Date                    geometry  \n",
       "159593  25.06  2003-11-04  POINT (104.52618 13.16781)  \n",
       "159875 -10.73  2003-11-04  POINT (104.46460 12.72853)  \n",
       "159876 -10.70  2003-11-04  POINT (104.46438 12.72698)  \n",
       "159877 -10.65  2003-11-04  POINT (104.46416 12.72542)  \n",
       "159878 -10.58  2003-11-04  POINT (104.46394 12.72387)  \n",
       "...       ...         ...                         ...  \n",
       "159980 -11.11  2003-11-04  POINT (104.44170 12.56495)  \n",
       "159982  -9.36  2003-11-04  POINT (104.44127 12.56185)  \n",
       "159983  -9.19  2003-11-04  POINT (104.44106 12.56029)  \n",
       "159984  -9.00  2003-11-04  POINT (104.44084 12.55874)  \n",
       "159985  -8.80  2003-11-04  POINT (104.44062 12.55718)  \n",
       "\n",
       "[107 rows x 9 columns]"
      ]
     },
     "execution_count": 15,
     "metadata": {},
     "output_type": "execute_result"
    }
   ],
   "source": [
    "pd.DataFrame(is1_lst[0])"
   ]
  },
  {
   "cell_type": "code",
   "execution_count": null,
   "metadata": {},
   "outputs": [],
   "source": [
    "### I made a function for stacking the information\n",
    "def alt13_a_out(db,var2):\n",
    "    alt13_df = pd.DataFrame()\n",
    "    date_list = db['Date_num'].unique()\n",
    "    for prd in date_list:\n",
    "        s_db = db.loc[db['Date_num']==prd]\n",
    "        beam_lst = db['Beam'].unique()\n",
    "        for beam_type in beam_lst:\n",
    "            df_select = s_db.loc[s_db['Beam']==beam_type]\n",
    "            alt13_df = alt13_df.append(out_rmv(df_select,var2), ignore_index = True)\n",
    "    return alt13_df"
   ]
  },
  {
   "cell_type": "code",
   "execution_count": null,
   "metadata": {},
   "outputs": [],
   "source": [
    "is1_lst_out['Date'][:]"
   ]
  },
  {
   "cell_type": "markdown",
   "metadata": {},
   "source": [
    "### Plottting time-series water level changes"
   ]
  },
  {
   "cell_type": "code",
   "execution_count": null,
   "metadata": {},
   "outputs": [],
   "source": [
    "fig=plt.figure(figsize=(10,4))\n",
    "ax = fig.add_subplot(111)\n",
    "ax.grid()\n",
    "ax.xaxis.set_major_locator(plt.MaxNLocator(5))\n",
    "ax.set_ylim([-20,0])\n",
    "ax.plot(a_tracks['Date'],a_tracks['SurfaceH'],'.', color = 'orange', markersize=0.25, label='all segements')\n",
    "ax.plot(a_tracks_out['Date'],a_tracks_out['SurfaceH'],'.', color = 'green',markersize=0.4, label='Without outliers')\n",
    "##ax.plot(av_h['Date'],av_h['Av_level'],'+', color = 'red',markersize=3, label='Averaged')\n",
    "##ax.plot(av_h['Date'],av_h['Av_level'],color = 'red',linewidth=0.25)\n",
    "h_leg=ax.legend()\n",
    "plt.title('Water Surface')\n",
    "ax.set_xlabel('Date')\n",
    "ax.set_ylabel('Water Surface, m')\n",
    "plt.show()"
   ]
  },
  {
   "cell_type": "code",
   "execution_count": null,
   "metadata": {},
   "outputs": [],
   "source": []
  }
 ],
 "metadata": {
  "kernelspec": {
   "display_name": "Python 3",
   "language": "python",
   "name": "python3"
  },
  "language_info": {
   "codemirror_mode": {
    "name": "ipython",
    "version": 3
   },
   "file_extension": ".py",
   "mimetype": "text/x-python",
   "name": "python",
   "nbconvert_exporter": "python",
   "pygments_lexer": "ipython3",
   "version": "3.7.6"
  }
 },
 "nbformat": 4,
 "nbformat_minor": 4
}
