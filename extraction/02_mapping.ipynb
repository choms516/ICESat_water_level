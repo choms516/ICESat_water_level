{
 "cells": [
  {
   "cell_type": "markdown",
   "metadata": {},
   "source": [
    "# Mapping the tracks with water levels"
   ]
  },
  {
   "cell_type": "markdown",
   "metadata": {},
   "source": [
    "This notebook show the way to map tracks with the water level information.\n",
    "\n",
    "1. Mapping one track\n",
    "2. Mapping multiple tracks\n",
    "\n",
    "In later notebook, the temporal water level changes would be dealt."
   ]
  },
  {
   "cell_type": "markdown",
   "metadata": {},
   "source": [
    "## Setting"
   ]
  },
  {
   "cell_type": "markdown",
   "metadata": {},
   "source": [
    "Required setting in the previous notebook."
   ]
  },
  {
   "cell_type": "code",
   "execution_count": 1,
   "metadata": {},
   "outputs": [],
   "source": [
    "import glob\n",
    "import os\n",
    "import pandas as pd\n",
    "from pathlib import Path\n",
    "import h5py\n",
    "import re\n",
    "import numpy as np"
   ]
  },
  {
   "cell_type": "code",
   "execution_count": 2,
   "metadata": {},
   "outputs": [],
   "source": [
    "##### load files\n",
    "## set the directory\n",
    "data_home = Path('/home/jovyan/ICESat_water_level/extraction/download/')\n",
    "## list them up and check them\n",
    "files= list(data_home.glob('*.h5'))\n",
    "## choose a file as an example\n",
    "file_latest = files[37]\n",
    "\n",
    "##### function of reading alt13\n",
    "def alt13_to_df(filename, beam):    \n",
    "    f = h5py.File(filename, 'r')\n",
    "    f_beam = f[beam]\n",
    "    lat = f_beam['segment_lat'][:]\n",
    "    long = f_beam['segment_lon'][:]\n",
    "    ws = f_beam['ht_water_surf'][:]\n",
    "    ws_sd = f_beam['stdev_water_surf'][:]\n",
    "    ws_err = f_beam['err_ht_water_surf'][:]\n",
    "    ortho = f_beam['ht_ortho'][:]\n",
    "    wd = f_beam['water_depth'][:]\n",
    "    alt13_df = pd.DataFrame({'Latitude':lat,'Longitude':long,'SurfaceH':ws,\n",
    "                            'SH_SD':ws_sd, 'SH_error':ws_err,'OrthoH':ortho,\n",
    "                            'WaterD':wd})\n",
    "    return alt13_df"
   ]
  },
  {
   "cell_type": "markdown",
   "metadata": {},
   "source": [
    "Check whether it works well."
   ]
  },
  {
   "cell_type": "code",
   "execution_count": 3,
   "metadata": {},
   "outputs": [
    {
     "name": "stdout",
     "output_type": "stream",
     "text": [
      "      Latitude   Longitude   SurfaceH  SH_SD      SH_error    OrthoH  \\\n",
      "0    12.572414  104.233827 -15.095439  0.030  3.402823e+38  2.840535   \n",
      "1    12.572625  104.233804 -15.091765  0.030  3.402823e+38  2.844710   \n",
      "2    12.572881  104.233778 -15.077269  0.030  3.402823e+38  2.860193   \n",
      "3    12.573246  104.233740 -15.074327  0.030  3.402823e+38  2.864084   \n",
      "4    12.574486  104.233615 -15.103493  0.030  3.402823e+38  2.838326   \n",
      "..         ...         ...        ...    ...           ...       ...   \n",
      "337  12.952379  104.195111 -15.540386  0.025  3.402823e+38  3.131171   \n",
      "338  12.952545  104.195094 -15.568451  0.025  3.402823e+38  3.103435   \n",
      "339  12.953128  104.195033 -15.562346  0.025  3.402823e+38  3.110859   \n",
      "340  12.954445  104.194900 -15.566502  0.025  3.402823e+38  3.109011   \n",
      "341  12.954828  104.194861 -15.532722  0.025  3.402823e+38  3.143470   \n",
      "\n",
      "           WaterD  \n",
      "0    3.402823e+38  \n",
      "1    3.402823e+38  \n",
      "2    3.402823e+38  \n",
      "3    3.402823e+38  \n",
      "4    3.402823e+38  \n",
      "..            ...  \n",
      "337  3.402823e+38  \n",
      "338  3.402823e+38  \n",
      "339  3.402823e+38  \n",
      "340  3.402823e+38  \n",
      "341  3.402823e+38  \n",
      "\n",
      "[342 rows x 7 columns]\n"
     ]
    }
   ],
   "source": [
    "gt2r = alt13_to_df(file_latest,'gt2r')\n",
    "print(gt2r)"
   ]
  },
  {
   "cell_type": "markdown",
   "metadata": {},
   "source": [
    "## Step 1: Mapping one track with water level information"
   ]
  },
  {
   "cell_type": "markdown",
   "metadata": {},
   "source": [
    "We will use `surface water hegiht` and `Orthometric height` as water level infromation.\n",
    "\n",
    "### Showing the water level information."
   ]
  },
  {
   "cell_type": "code",
   "execution_count": 4,
   "metadata": {},
   "outputs": [
    {
     "name": "stdout",
     "output_type": "stream",
     "text": [
      "Surface water height - Min. height: -16.821245 (m) Max. height: -14.976893 (m)\n",
      "Orthometric height - Min. height: 1.7828771 (m) Max. height: 3.4429538 (m)\n"
     ]
    }
   ],
   "source": [
    "print('Surface water height - Min. height:', gt2r['SurfaceH'].min(),'(m)', 'Max. height:', gt2r['SurfaceH'].max(),'(m)')\n",
    "print('Orthometric height - Min. height:', gt2r['OrthoH'].min(),'(m)', 'Max. height:', gt2r['OrthoH'].max(),'(m)')"
   ]
  },
  {
   "cell_type": "code",
   "execution_count": 5,
   "metadata": {},
   "outputs": [],
   "source": [
    "import h5py\n",
    "import numpy as np\n",
    "import cartopy.crs as ccrs\n",
    "import matplotlib.pyplot as plt\n",
    "import matplotlib as mpl        \n",
    "import cartopy.io.img_tiles as cimgt"
   ]
  },
  {
   "cell_type": "code",
   "execution_count": 6,
   "metadata": {},
   "outputs": [],
   "source": [
    "### bounds of Tonle Sap Lake\n",
    "sp_ex = [103.643, 104.667, 12.375, 13.287]"
   ]
  },
  {
   "cell_type": "code",
   "execution_count": 7,
   "metadata": {},
   "outputs": [],
   "source": [
    "## function for mapping the water level \n",
    "def ic2_map_wl(file, beam, bound, water_levels):\n",
    "    ic2 = alt13_to_df(file,beam)\n",
    "    fig = plt.figure(figsize=(9,10))\n",
    "    ax = plt.axes(projection=ccrs.PlateCarree())\n",
    "    ax.set_extent(bound, crs=ccrs.PlateCarree())\n",
    "    plt.scatter(ic2['Longitude'], ic2['Latitude'], s=10, c=ic2[water_levels], alpha=.7, transform=ccrs.PlateCarree(), cmap='terrain')\n",
    "    plt.colorbar(fraction=0.0320, pad=0.02, label='Elevation (m)')\n",
    "\n",
    "    ##load Google Sat.Map\n",
    "    #request = cimgt.GoogleTiles(style='satellite')\n",
    "    request = cimgt.Stamen('terrain-background')\n",
    "    ax.add_image(request, 7)"
   ]
  },
  {
   "cell_type": "code",
   "execution_count": null,
   "metadata": {},
   "outputs": [],
   "source": [
    "ic2_map_wl(file_latest,'gt2r',sp_ex,'OrthoH')"
   ]
  },
  {
   "cell_type": "code",
   "execution_count": 8,
   "metadata": {},
   "outputs": [
    {
     "data": {
      "image/png": "[encoded data removed]",
      "text/plain": [
       "<Figure size 648x720 with 2 Axes>"
      ]
     },
     "metadata": {
      "needs_background": "light"
     },
     "output_type": "display_data"
    }
   ],
   "source": [
    "ic2_map_wl(file_latest,'gt2r',sp_ex,'SurfaceH')"
   ]
  },
  {
   "cell_type": "markdown",
   "metadata": {},
   "source": [
    "### Showing water level for all beams"
   ]
  },
  {
   "cell_type": "code",
   "execution_count": null,
   "metadata": {},
   "outputs": [],
   "source": [
    "## function for mapping the water level from every beam\n",
    "def ic2_map_wl_beams(file, bound, water_levels):\n",
    "    fig = plt.figure(figsize=(9,10))\n",
    "    ax = plt.axes(projection=ccrs.PlateCarree())\n",
    "    ax.set_extent(bound, crs=ccrs.PlateCarree())\n",
    "    beam = ['gt1l','gt1r','gt2l','gt2r','gt3l','gt3r']\n",
    "    for i in beam:\n",
    "        ic2 = alt13_to_df(file,i)\n",
    "        plt.scatter(ic2['Longitude'], ic2['Latitude'], s=10, c=ic2[water_levels], alpha=.7, transform=ccrs.PlateCarree(), cmap='terrain')\n",
    "    plt.colorbar(fraction=0.0320, pad=0.02, label='Elevation (m)')\n",
    "\n",
    "    ##load Google Sat.Map\n",
    "    #request = cimgt.GoogleTiles(style='satellite')\n",
    "    request = cimgt.Stamen('terrain-background')\n",
    "    ax.add_image(request, 7)"
   ]
  },
  {
   "cell_type": "code",
   "execution_count": null,
   "metadata": {},
   "outputs": [],
   "source": [
    "ic2_map_wl_beams(file_latest,sp_ex,'OrthoH')"
   ]
  },
  {
   "cell_type": "code",
   "execution_count": null,
   "metadata": {},
   "outputs": [],
   "source": [
    "ic2_map_wl_beams(file_latest,sp_ex,'SurfaceH')"
   ]
  },
  {
   "cell_type": "markdown",
   "metadata": {},
   "source": [
    "## Step 2: Mapping multiple tracks with water level information"
   ]
  },
  {
   "cell_type": "markdown",
   "metadata": {},
   "source": [
    "### Mapping the tracks"
   ]
  },
  {
   "cell_type": "markdown",
   "metadata": {},
   "source": [
    "Let's see the multiple repeat track around Tonle Sap Lake."
   ]
  },
  {
   "cell_type": "code",
   "execution_count": null,
   "metadata": {},
   "outputs": [],
   "source": [
    "## list\n",
    "# print(files)\n",
    "\n",
    "D_dict={}\n",
    "error_count=0\n",
    "for ff in files:\n",
    "    try:\n",
    "        D_dict[ff]=alt13_to_df(ff, 'gt2l')\n",
    "    except KeyError as e:\n",
    "        print(f'file {ff} encountered error {e}')\n",
    "        error_count += 1\n",
    "print(f\"read {len(D_dict)} data files of which {error_count} gave errors\")"
   ]
  },
  {
   "cell_type": "markdown",
   "metadata": {},
   "source": [
    "There are 37 files with 'gt2l' among 38 files. "
   ]
  },
  {
   "cell_type": "code",
   "execution_count": null,
   "metadata": {},
   "outputs": [],
   "source": [
    "fig = plt.figure(figsize=(9,10))\n",
    "ax = plt.axes(projection=ccrs.PlateCarree())\n",
    "ax.set_extent(sp_ex, crs=ccrs.PlateCarree())\n",
    "for index,Di in D_dict.items():\n",
    "    plt.scatter(Di['Longitude'], Di['Latitude'],s=2)\n",
    "\n",
    "request = cimgt.Stamen('terrain-background')\n",
    "ax.add_image(request, 10)\n",
    "plt.title(\"Tracks of gt2l on TSL\")"
   ]
  },
  {
   "cell_type": "markdown",
   "metadata": {},
   "source": [
    "Mapping all tracks with all beams"
   ]
  },
  {
   "cell_type": "code",
   "execution_count": null,
   "metadata": {},
   "outputs": [],
   "source": [
    "### new dictionaries for collecting all beams in files\n",
    "D_dict_beams={}\n",
    "error_count=0\n",
    "beam = ['gt1l','gt1r','gt2l','gt2r','gt3l','gt3r']\n",
    "for fff in files:\n",
    "    for bb in beam:\n",
    "        try:\n",
    "            D_dict_beams[str(fff)+'_'+str(bb)]=alt13_to_df(fff, bb)\n",
    "        except KeyError as e:\n",
    "            print(f'file {fff} encountered error {e}')\n",
    "            error_count += 1\n",
    "print(f\"read {len(D_dict_beams)} data files of which {error_count} gave errors\")"
   ]
  },
  {
   "cell_type": "code",
   "execution_count": null,
   "metadata": {},
   "outputs": [],
   "source": [
    "fig = plt.figure(figsize=(9,10))\n",
    "ax = plt.axes(projection=ccrs.PlateCarree())\n",
    "ax.set_extent(sp_ex, crs=ccrs.PlateCarree())\n",
    "for index,Di in D_dict_beams.items():\n",
    "    plt.scatter(Di['Longitude'], Di['Latitude'],s=2)\n",
    "\n",
    "request = cimgt.Stamen('terrain-background')\n",
    "ax.add_image(request, 10)\n",
    "plt.title(\"Tracks on TSL\")"
   ]
  },
  {
   "cell_type": "markdown",
   "metadata": {},
   "source": [
    "### Mapping with water levels"
   ]
  },
  {
   "cell_type": "markdown",
   "metadata": {},
   "source": [
    "It is a function for mapping water level of all ICESat-2 on the TSL"
   ]
  },
  {
   "cell_type": "code",
   "execution_count": null,
   "metadata": {},
   "outputs": [],
   "source": [
    "def ic2_map_wl_beams_all(dic, bound, water_levels,title):\n",
    "    fig = plt.figure(figsize=(9,10))\n",
    "    ax = plt.axes(projection=ccrs.PlateCarree())\n",
    "    ax.set_extent(bound, crs=ccrs.PlateCarree())\n",
    "    for index,Di in dic.items():\n",
    "        plt.scatter(Di['Longitude'], Di['Latitude'],s=2,c=Di[water_levels], alpha=.7)\n",
    "   \n",
    "    request = cimgt.Stamen('terrain-background')\n",
    "    ax.add_image(request, 10)\n",
    "    plt.title(title)\n",
    "    plt.colorbar(fraction=0.0320, pad=0.02, label='Elevation (m)')"
   ]
  },
  {
   "cell_type": "markdown",
   "metadata": {},
   "source": [
    "#### water levels = Surface water height"
   ]
  },
  {
   "cell_type": "code",
   "execution_count": null,
   "metadata": {},
   "outputs": [],
   "source": [
    "ic2_map_wl_beams_all(D_dict,sp_ex,'SurfaceH',\"Tracks of gt2l on TSL: Surface water height\")"
   ]
  },
  {
   "cell_type": "markdown",
   "metadata": {},
   "source": [
    "See water levels of all beams of all tracks"
   ]
  },
  {
   "cell_type": "code",
   "execution_count": null,
   "metadata": {},
   "outputs": [],
   "source": [
    "ic2_map_wl_beams_all(D_dict_beams,sp_ex,'SurfaceH',\"All tracks of all beams on TSL: Surface water height\")"
   ]
  },
  {
   "cell_type": "markdown",
   "metadata": {},
   "source": [
    "#### water levels = SOrthometric height"
   ]
  },
  {
   "cell_type": "code",
   "execution_count": null,
   "metadata": {},
   "outputs": [],
   "source": [
    "ic2_map_wl_beams_all(D_dict,sp_ex,'OrthoH',\"Tracks of gt2l on TSL: Orthometric height\")"
   ]
  },
  {
   "cell_type": "code",
   "execution_count": null,
   "metadata": {},
   "outputs": [],
   "source": [
    "ic2_map_wl_beams_all(D_dict_beams,sp_ex,'OrthoH',\"Tracks of gt2l on TSL: Orthometric height\")"
   ]
  }
 ],
 "metadata": {
  "kernelspec": {
   "display_name": "Python 3",
   "language": "python",
   "name": "python3"
  },
  "language_info": {
   "codemirror_mode": {
    "name": "ipython",
    "version": 3
   },
   "file_extension": ".py",
   "mimetype": "text/x-python",
   "name": "python",
   "nbconvert_exporter": "python",
   "pygments_lexer": "ipython3",
   "version": "3.7.6"
  }
 },
 "nbformat": 4,
 "nbformat_minor": 4
}
