{
 "cells": [
  {
   "cell_type": "markdown",
   "metadata": {},
   "source": [
    "# Mapping the tracks with water levels"
   ]
  },
  {
   "cell_type": "markdown",
   "metadata": {},
   "source": [
    "This notebook show the way to map tracks with the water level information.\n",
    "\n",
    "1. Mapping one track\n",
    "2. Mapping multiple tracks\n",
    "\n",
    "In later notebook, the temporal water level changes would be dealt."
   ]
  },
  {
   "cell_type": "markdown",
   "metadata": {},
   "source": [
    "## Setting"
   ]
  },
  {
   "cell_type": "markdown",
   "metadata": {},
   "source": [
    "Required setting in the previous notebook."
   ]
  },
  {
   "cell_type": "code",
   "execution_count": null,
   "metadata": {},
   "outputs": [],
   "source": [
    "import pandas as pd\n",
    "from pathlib import Path\n",
    "import h5py\n",
    "import re\n",
    "import numpy as np"
   ]
  },
  {
   "cell_type": "code",
   "execution_count": null,
   "metadata": {},
   "outputs": [],
   "source": [
    "##### load files\n",
    "## set the directory\n",
    "data_home = Path('/home/jovyan/ICESat_water_level/extraction/download/')\n",
    "## list them up and check them\n",
    "files= list(data_home.glob('*.h5'))\n",
    "## choose a file as an example\n",
    "file_latest = files[37]\n",
    "\n",
    "##### function of reading alt13\n",
    "def alt13_to_df(filename, beam):    \n",
    "    f = h5py.File(filename, 'r')\n",
    "    f_beam = f[beam]\n",
    "    lat = f_beam['segment_lat'][:]\n",
    "    long = f_beam['segment_lon'][:]\n",
    "    ws = f_beam['ht_water_surf'][:]\n",
    "    ws_sd = f_beam['stdev_water_surf'][:]\n",
    "    ws_err = f_beam['err_ht_water_surf'][:]\n",
    "    ortho = f_beam['ht_ortho'][:]\n",
    "    wd = f_beam['water_depth'][:]\n",
    "    alt13_df = pd.DataFrame({'Latitude':lat,'Longitude':long,'SurfaceH':ws,\n",
    "                            'SH_SD':ws_sd, 'SH_error':ws_err,'OrthoH':ortho,\n",
    "                            'WaterD':wd})\n",
    "    return alt13_df"
   ]
  },
  {
   "cell_type": "markdown",
   "metadata": {},
   "source": [
    "Check whether it works well."
   ]
  },
  {
   "cell_type": "code",
   "execution_count": null,
   "metadata": {},
   "outputs": [],
   "source": [
    "gt2r = alt13_to_df(file_latest,'gt2r')\n",
    "print(gt2r)"
   ]
  },
  {
   "cell_type": "markdown",
   "metadata": {},
   "source": [
    "## Step 1: Mapping one track with water level information"
   ]
  },
  {
   "cell_type": "markdown",
   "metadata": {},
   "source": [
    "We will use `surface water hegiht` and `Orthometric height` as water level infromation.\n",
    "\n",
    "### Showing the water level information."
   ]
  },
  {
   "cell_type": "code",
   "execution_count": null,
   "metadata": {},
   "outputs": [],
   "source": [
    "print('Surface water height - Min. height:', gt2r['SurfaceH'].min(),'(m)', 'Max. height:', gt2r['SurfaceH'].max(),'(m)')\n",
    "print('Orthometric height - Min. height:', gt2r['OrthoH'].min(),'(m)', 'Max. height:', gt2r['OrthoH'].max(),'(m)')"
   ]
  },
  {
   "cell_type": "code",
   "execution_count": null,
   "metadata": {},
   "outputs": [],
   "source": [
    "import h5py\n",
    "import numpy as np\n",
    "import cartopy.crs as ccrs\n",
    "import matplotlib.pyplot as plt\n",
    "import matplotlib as mpl        \n",
    "import cartopy.io.img_tiles as cimgt"
   ]
  },
  {
   "cell_type": "code",
   "execution_count": null,
   "metadata": {},
   "outputs": [],
   "source": [
    "### bounds of Tonle Sap Lake\n",
    "sp_ex = [103.643, 104.667, 12.375, 13.287]"
   ]
  },
  {
   "cell_type": "code",
   "execution_count": null,
   "metadata": {},
   "outputs": [],
   "source": [
    "## function for mapping the water level \n",
    "def ic2_map_wl(file, beam, bound, water_levels):\n",
    "    ic2 = alt13_to_df(file,beam)\n",
    "    fig = plt.figure(figsize=(9,10))\n",
    "    ax = plt.axes(projection=ccrs.PlateCarree())\n",
    "    ax.set_extent(bound, crs=ccrs.PlateCarree())\n",
    "    plt.scatter(ic2['Longitude'], ic2['Latitude'], s=10, c=ic2[water_levels], alpha=.7, transform=ccrs.PlateCarree(), cmap='terrain')\n",
    "    plt.colorbar(fraction=0.0320, pad=0.02, label='Elevation (m)')\n",
    "\n",
    "    ##load Google Sat.Map\n",
    "    #request = cimgt.GoogleTiles(style='satellite')\n",
    "    request = cimgt.Stamen('terrain-background')\n",
    "    ax.add_image(request, 7)"
   ]
  },
  {
   "cell_type": "code",
   "execution_count": null,
   "metadata": {},
   "outputs": [],
   "source": [
    "ic2_map_wl(file_latest,'gt2r',sp_ex,'OrthoH')"
   ]
  },
  {
   "cell_type": "code",
   "execution_count": null,
   "metadata": {},
   "outputs": [],
   "source": [
    "ic2_map_wl(file_latest,'gt2r',sp_ex,'SurfaceH')"
   ]
  },
  {
   "cell_type": "markdown",
   "metadata": {},
   "source": [
    "### Showing water level for all beams"
   ]
  },
  {
   "cell_type": "code",
   "execution_count": null,
   "metadata": {},
   "outputs": [],
   "source": [
    "## function for mapping the water level from every beam\n",
    "def ic2_map_wl_beams(file, bound, water_levels):\n",
    "    fig = plt.figure(figsize=(9,10))\n",
    "    ax = plt.axes(projection=ccrs.PlateCarree())\n",
    "    ax.set_extent(bound, crs=ccrs.PlateCarree())\n",
    "    beam = ['gt1l','gt1r','gt2l','gt2r','gt3l','gt3r']\n",
    "    for i in beam:\n",
    "        ic2 = alt13_to_df(file,i)\n",
    "        plt.scatter(ic2['Longitude'], ic2['Latitude'], s=10, c=ic2[water_levels], alpha=.7, transform=ccrs.PlateCarree(), cmap='terrain')\n",
    "    plt.colorbar(fraction=0.0320, pad=0.02, label='Elevation (m)')\n",
    "\n",
    "    ##load Google Sat.Map\n",
    "    #request = cimgt.GoogleTiles(style='satellite')\n",
    "    request = cimgt.Stamen('terrain-background')\n",
    "    ax.add_image(request, 7)"
   ]
  },
  {
   "cell_type": "code",
   "execution_count": null,
   "metadata": {},
   "outputs": [],
   "source": [
    "ic2_map_wl_beams(file_latest,sp_ex,'OrthoH')"
   ]
  },
  {
   "cell_type": "code",
   "execution_count": null,
   "metadata": {},
   "outputs": [],
   "source": [
    "ic2_map_wl_beams(file_latest,sp_ex,'SurfaceH')"
   ]
  },
  {
   "cell_type": "markdown",
   "metadata": {},
   "source": [
    "## Step 2: Mapping multiple tracks with water level information"
   ]
  },
  {
   "cell_type": "markdown",
   "metadata": {},
   "source": [
    "### Mapping the tracks"
   ]
  }
 ],
 "metadata": {
  "kernelspec": {
   "display_name": "Python 3",
   "language": "python",
   "name": "python3"
  },
  "language_info": {
   "codemirror_mode": {
    "name": "ipython",
    "version": 3
   },
   "file_extension": ".py",
   "mimetype": "text/x-python",
   "name": "python",
   "nbconvert_exporter": "python",
   "pygments_lexer": "ipython3",
   "version": "3.7.6"
  }
 },
 "nbformat": 4,
 "nbformat_minor": 4
}
