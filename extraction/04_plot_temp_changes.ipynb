{
 "cells": [
  {
   "cell_type": "markdown",
   "metadata": {},
   "source": [
    "# Plotting Temporal changes"
   ]
  },
  {
   "cell_type": "markdown",
   "metadata": {},
   "source": [
    "I will plot all heights regardless of locations"
   ]
  },
  {
   "cell_type": "markdown",
   "metadata": {},
   "source": [
    "## Test"
   ]
  },
  {
   "cell_type": "markdown",
   "metadata": {},
   "source": [
    "One track would be plotted as an example"
   ]
  },
  {
   "cell_type": "markdown",
   "metadata": {},
   "source": [
    "### Setting"
   ]
  },
  {
   "cell_type": "code",
   "execution_count": 113,
   "metadata": {},
   "outputs": [
    {
     "name": "stdout",
     "output_type": "stream",
     "text": [
      "The autoreload extension is already loaded. To reload it, use:\n",
      "  %reload_ext autoreload\n"
     ]
    }
   ],
   "source": [
    "import glob\n",
    "import os\n",
    "import pandas as pd\n",
    "from pathlib import Path\n",
    "import h5py\n",
    "import re\n",
    "import numpy as np\n",
    "import matplotlib.pyplot as plt\n",
    "import datetime\n",
    "import cartopy.crs as ccrs\n",
    "import cartopy.io.img_tiles as cimgt\n",
    "import statistics\n",
    "%matplotlib widget\n",
    "%load_ext autoreload\n",
    "%autoreload 2"
   ]
  },
  {
   "cell_type": "code",
   "execution_count": 2,
   "metadata": {},
   "outputs": [],
   "source": [
    "##### load files\n",
    "## set the directory\n",
    "data_home = Path('/home/jovyan/ICESat_water_level/extraction/download/')\n",
    "## list them up and check them\n",
    "files= list(data_home.glob('*.h5'))\n",
    "## choose a file as an example\n",
    "\n",
    "##### function of reading alt13\n",
    "def alt13_to_df(filename, beam):    \n",
    "    f = h5py.File(filename, 'r')\n",
    "    f_beam = f[beam]\n",
    "    lat = f_beam['segment_lat'][:]\n",
    "    long = f_beam['segment_lon'][:]\n",
    "    ws = f_beam['ht_water_surf'][:]\n",
    "    ws_sd = f_beam['stdev_water_surf'][:]\n",
    "    ws_err = f_beam['err_ht_water_surf'][:]\n",
    "    ortho = f_beam['ht_ortho'][:]\n",
    "    wd = f_beam['water_depth'][:]\n",
    "    alt13_df = pd.DataFrame({'Latitude':lat,'Longitude':long,'SurfaceH':ws,\n",
    "                            'SH_SD':ws_sd, 'SH_error':ws_err,'OrthoH':ortho,\n",
    "                            'WaterD':wd})\n",
    "    return alt13_df\n",
    "\n",
    "### We set 'gt2l' as a beam of example for tracking\n",
    "D_dict={}\n",
    "error_count=0\n",
    "for ff in files:\n",
    "    try:\n",
    "        D_dict[ff]=alt13_to_df(ff, 'gt2l')\n",
    "    except KeyError as e:\n",
    "        ##print(f'file {ff} encountered error {e}')\n",
    "        error_count += 1\n",
    "        \n",
    "### bounds of Tonle Sap Lake\n",
    "sp_ex = [103.643, 104.667, 12.375, 13.287]"
   ]
  },
  {
   "cell_type": "markdown",
   "metadata": {},
   "source": [
    "### Plot of one track"
   ]
  },
  {
   "cell_type": "markdown",
   "metadata": {},
   "source": [
    "##### I need to make a col and draw it repetitively"
   ]
  },
  {
   "cell_type": "markdown",
   "metadata": {},
   "source": [
    "Function for record the beam, date and RGT, as well as other information."
   ]
  },
  {
   "cell_type": "code",
   "execution_count": 3,
   "metadata": {},
   "outputs": [],
   "source": [
    "### I made a function for stacking the information\n",
    "def alt13_to_df_beams(filename):    \n",
    "    f = h5py.File(filename, 'r')\n",
    "    rgt = str(filename).split(\"_\")[5][0:4]\n",
    "    cycle = int(str(filename).split(\"_\")[5][4:6])\n",
    "    version = int(str(filename).split(\"_\")[5][6:8])\n",
    "    ymd = str(filename).split(\"_\")[4][0:8]\n",
    "    ymd_trans = datetime.datetime(int(ymd[0:4]),int(ymd[4:6]),int(ymd[6:8]))\n",
    "    date = ymd_trans.strftime(\"%Y-%m-%d\")\n",
    "    beam_lst = list(f)[2:-1]\n",
    "    alt13_df = pd.DataFrame()\n",
    "    for beam in beam_lst:\n",
    "        f_beam = f[beam]\n",
    "        lat = f_beam['segment_lat'][:]\n",
    "        long = f_beam['segment_lon'][:]\n",
    "        ws = f_beam['ht_water_surf'][:]\n",
    "        ws_sd = f_beam['stdev_water_surf'][:]\n",
    "        ws_err = f_beam['err_ht_water_surf'][:]\n",
    "        ortho = f_beam['ht_ortho'][:]\n",
    "        wd = f_beam['water_depth'][:]\n",
    "        df_beam = pd.DataFrame({'Beam': beam ,'RGT':rgt,'Cycle': cycle, 'Date':date, 'Date_num':int(ymd),'Ver.':version,\n",
    "                                 'Latitude':lat,'Longitude':long,'SurfaceH':ws,\n",
    "                                'SH_SD':ws_sd, 'SH_error':ws_err,'OrthoH':ortho,\n",
    "                                'WaterD':wd})\n",
    "        alt13_df = alt13_df.append(df_beam, ignore_index = True)\n",
    "        \n",
    "    return alt13_df\n"
   ]
  },
  {
   "cell_type": "code",
   "execution_count": null,
   "metadata": {},
   "outputs": [],
   "source": [
    "test_beams = alt13_to_df_beams(files[37])"
   ]
  },
  {
   "cell_type": "code",
   "execution_count": null,
   "metadata": {},
   "outputs": [],
   "source": [
    "fig=plt.figure(figsize=(6,4))\n",
    "ax = fig.add_subplot(111)\n",
    "ax.plot(test_beams['Date'],test_beams['SurfaceH'],'.',markersize=0.25, label='all segements')\n",
    "h_leg=ax.legend()\n",
    "plt.title('Water Surface')\n",
    "ax.set_xlabel('Date')\n",
    "ax.set_ylabel('Water Surface, m')\n",
    "plt.show()"
   ]
  },
  {
   "cell_type": "markdown",
   "metadata": {},
   "source": [
    "## Plot of all tracks with all beams"
   ]
  },
  {
   "cell_type": "code",
   "execution_count": 4,
   "metadata": {},
   "outputs": [
    {
     "name": "stdout",
     "output_type": "stream",
     "text": [
      "done\n"
     ]
    }
   ],
   "source": [
    "a_tracks = pd.DataFrame()\n",
    "for ff in files:\n",
    "    a_tracks = a_tracks.append(alt13_to_df_beams(ff), ignore_index = True)\n",
    "print('done')"
   ]
  },
  {
   "cell_type": "code",
   "execution_count": 5,
   "metadata": {},
   "outputs": [],
   "source": [
    "#### Sorting to draw graph\n",
    "a_tracks.sort_values(by=['Date_num'], inplace=True)"
   ]
  },
  {
   "cell_type": "code",
   "execution_count": 6,
   "metadata": {},
   "outputs": [
    {
     "data": {
      "application/vnd.jupyter.widget-view+json": {
       "model_id": "586e83d5b92945d4bfe8ced96d05681a",
       "version_major": 2,
       "version_minor": 0
      },
      "text/plain": [
       "Canvas(toolbar=Toolbar(toolitems=[('Home', 'Reset original view', 'home', 'home'), ('Back', 'Back to previous …"
      ]
     },
     "metadata": {},
     "output_type": "display_data"
    }
   ],
   "source": [
    "fig=plt.figure(figsize=(6,4))\n",
    "ax = fig.add_subplot(111)\n",
    "ax.grid()\n",
    "ax.xaxis.set_major_locator(plt.MaxNLocator(5))\n",
    "ax.plot(a_tracks['Date'],a_tracks['SurfaceH'],'.',markersize=0.25, label='all segements')\n",
    "h_leg=ax.legend()\n",
    "plt.title('Water Surface')\n",
    "ax.set_xlabel('Date')\n",
    "ax.set_ylabel('Water Surface, m')\n",
    "plt.show()"
   ]
  },
  {
   "cell_type": "markdown",
   "metadata": {},
   "source": [
    "## Plot the tracks by grouping their locations "
   ]
  },
  {
   "cell_type": "markdown",
   "metadata": {},
   "source": [
    "#### Map all tracks with labels"
   ]
  },
  {
   "cell_type": "markdown",
   "metadata": {},
   "source": [
    "Drawing a just track first."
   ]
  },
  {
   "cell_type": "code",
   "execution_count": 7,
   "metadata": {},
   "outputs": [
    {
     "data": {
      "application/vnd.jupyter.widget-view+json": {
       "model_id": "1e09fa82592d44a1b9b4c51e2dafc5b5",
       "version_major": 2,
       "version_minor": 0
      },
      "text/plain": [
       "Canvas(toolbar=Toolbar(toolitems=[('Home', 'Reset original view', 'home', 'home'), ('Back', 'Back to previous …"
      ]
     },
     "metadata": {},
     "output_type": "display_data"
    },
    {
     "data": {
      "text/plain": [
       "Text(0.5, 1.0, 'Tracks on TSL')"
      ]
     },
     "execution_count": 7,
     "metadata": {},
     "output_type": "execute_result"
    }
   ],
   "source": [
    "fig = plt.figure(figsize=(6,6))\n",
    "ax = fig.add_subplot(111)\n",
    "ax = plt.axes(projection=ccrs.PlateCarree())\n",
    "ax.set_extent(sp_ex, crs=ccrs.PlateCarree())\n",
    "plt.scatter(a_tracks['Longitude'], a_tracks['Latitude'],s=1)\n",
    "\n",
    "request = cimgt.Stamen('terrain-background')\n",
    "ax.add_image(request, 10)\n",
    "plt.title(\"Tracks on TSL\")"
   ]
  },
  {
   "cell_type": "markdown",
   "metadata": {},
   "source": [
    "Let's plot water levels according to cycles.\n",
    "\n",
    "Before it, I will plot the third track, and see the temporal gaps"
   ]
  },
  {
   "cell_type": "code",
   "execution_count": 8,
   "metadata": {},
   "outputs": [],
   "source": [
    "#### Select the 3rd track\n",
    "track_3rd = a_tracks.loc[a_tracks['Cycle'] == 3]"
   ]
  },
  {
   "cell_type": "code",
   "execution_count": 9,
   "metadata": {},
   "outputs": [
    {
     "data": {
      "application/vnd.jupyter.widget-view+json": {
       "model_id": "39384507a54b4d17adbaa8cbca7f0182",
       "version_major": 2,
       "version_minor": 0
      },
      "text/plain": [
       "Canvas(toolbar=Toolbar(toolitems=[('Home', 'Reset original view', 'home', 'home'), ('Back', 'Back to previous …"
      ]
     },
     "metadata": {},
     "output_type": "display_data"
    },
    {
     "data": {
      "text/plain": [
       "Text(0.5, 1.0, 'Tracks on TSL')"
      ]
     },
     "execution_count": 9,
     "metadata": {},
     "output_type": "execute_result"
    }
   ],
   "source": [
    "#### Mapping\n",
    "fig = plt.figure(figsize=(6,6))\n",
    "ax = fig.add_subplot(111)\n",
    "ax = plt.axes(projection=ccrs.PlateCarree())\n",
    "ax.set_extent(sp_ex, crs=ccrs.PlateCarree())\n",
    "plt.scatter(track_3rd['Longitude'], track_3rd['Latitude'],s=1)\n",
    "\n",
    "request = cimgt.Stamen('terrain-background')\n",
    "ax.add_image(request, 10)\n",
    "plt.title(\"Tracks on TSL\")"
   ]
  },
  {
   "cell_type": "code",
   "execution_count": 196,
   "metadata": {},
   "outputs": [
    {
     "name": "stdout",
     "output_type": "stream",
     "text": [
      "201\n"
     ]
    }
   ],
   "source": [
    "print(track_3rd['Date_num'].max()-track_3rd['Date_num'].min())"
   ]
  },
  {
   "cell_type": "markdown",
   "metadata": {},
   "source": [
    "It is about 201 day. Too long to see the water changes.\n",
    "\n",
    "I will see some papers and see how they make a graph."
   ]
  },
  {
   "cell_type": "markdown",
   "metadata": {},
   "source": [
    "Here are my plans to do today.\n",
    "1. Plot outliers\n",
    "2. Add averaged points of the day\n",
    "3. See the relationship of water level with extent\n",
    "4. Newly apply to Bugon Res."
   ]
  },
  {
   "cell_type": "markdown",
   "metadata": {},
   "source": [
    "## Plot outliers and averaged heights"
   ]
  },
  {
   "cell_type": "markdown",
   "metadata": {},
   "source": [
    "Outliers\n",
    "IQR = q0.75 − q0.25\n",
    "LSHoutlier > q0.75 + 1.5 ∗ IQR or LSHoutlier < q0.25 − 1.5 ∗ IQR\n",
    "\n",
    "I need to do it by beams, so I need to modify the function"
   ]
  },
  {
   "cell_type": "code",
   "execution_count": 10,
   "metadata": {},
   "outputs": [
    {
     "data": {
      "text/html": [
       "<div>\n",
       "<style scoped>\n",
       "    .dataframe tbody tr th:only-of-type {\n",
       "        vertical-align: middle;\n",
       "    }\n",
       "\n",
       "    .dataframe tbody tr th {\n",
       "        vertical-align: top;\n",
       "    }\n",
       "\n",
       "    .dataframe thead th {\n",
       "        text-align: right;\n",
       "    }\n",
       "</style>\n",
       "<table border=\"1\" class=\"dataframe\">\n",
       "  <thead>\n",
       "    <tr style=\"text-align: right;\">\n",
       "      <th></th>\n",
       "      <th>Beam</th>\n",
       "      <th>RGT</th>\n",
       "      <th>Cycle</th>\n",
       "      <th>Date</th>\n",
       "      <th>Date_num</th>\n",
       "      <th>Ver.</th>\n",
       "      <th>Latitude</th>\n",
       "      <th>Longitude</th>\n",
       "      <th>SurfaceH</th>\n",
       "      <th>SH_SD</th>\n",
       "      <th>SH_error</th>\n",
       "      <th>OrthoH</th>\n",
       "      <th>WaterD</th>\n",
       "    </tr>\n",
       "  </thead>\n",
       "  <tbody>\n",
       "    <tr>\n",
       "      <th>0</th>\n",
       "      <td>gt1l</td>\n",
       "      <td>0461</td>\n",
       "      <td>1</td>\n",
       "      <td>2018-10-28</td>\n",
       "      <td>20181028</td>\n",
       "      <td>1</td>\n",
       "      <td>12.729695</td>\n",
       "      <td>104.512303</td>\n",
       "      <td>-8.119766</td>\n",
       "      <td>3.402823e+38</td>\n",
       "      <td>3.402823e+38</td>\n",
       "      <td>8.898558</td>\n",
       "      <td>3.402823e+38</td>\n",
       "    </tr>\n",
       "    <tr>\n",
       "      <th>227</th>\n",
       "      <td>gt3r</td>\n",
       "      <td>0461</td>\n",
       "      <td>1</td>\n",
       "      <td>2018-10-28</td>\n",
       "      <td>20181028</td>\n",
       "      <td>1</td>\n",
       "      <td>12.700246</td>\n",
       "      <td>104.450221</td>\n",
       "      <td>-8.321230</td>\n",
       "      <td>6.500000e-02</td>\n",
       "      <td>3.402823e+38</td>\n",
       "      <td>8.913179</td>\n",
       "      <td>3.402823e+38</td>\n",
       "    </tr>\n",
       "    <tr>\n",
       "      <th>226</th>\n",
       "      <td>gt3r</td>\n",
       "      <td>0461</td>\n",
       "      <td>1</td>\n",
       "      <td>2018-10-28</td>\n",
       "      <td>20181028</td>\n",
       "      <td>1</td>\n",
       "      <td>12.701124</td>\n",
       "      <td>104.450314</td>\n",
       "      <td>-8.297829</td>\n",
       "      <td>6.500000e-02</td>\n",
       "      <td>3.402823e+38</td>\n",
       "      <td>8.937248</td>\n",
       "      <td>3.402823e+38</td>\n",
       "    </tr>\n",
       "    <tr>\n",
       "      <th>225</th>\n",
       "      <td>gt3r</td>\n",
       "      <td>0461</td>\n",
       "      <td>1</td>\n",
       "      <td>2018-10-28</td>\n",
       "      <td>20181028</td>\n",
       "      <td>1</td>\n",
       "      <td>12.701847</td>\n",
       "      <td>104.450388</td>\n",
       "      <td>-8.328204</td>\n",
       "      <td>6.500000e-02</td>\n",
       "      <td>3.402823e+38</td>\n",
       "      <td>8.907535</td>\n",
       "      <td>3.402823e+38</td>\n",
       "    </tr>\n",
       "    <tr>\n",
       "      <th>224</th>\n",
       "      <td>gt3r</td>\n",
       "      <td>0461</td>\n",
       "      <td>1</td>\n",
       "      <td>2018-10-28</td>\n",
       "      <td>20181028</td>\n",
       "      <td>1</td>\n",
       "      <td>12.702500</td>\n",
       "      <td>104.450451</td>\n",
       "      <td>-8.313114</td>\n",
       "      <td>6.500000e-02</td>\n",
       "      <td>3.402823e+38</td>\n",
       "      <td>8.923317</td>\n",
       "      <td>3.402823e+38</td>\n",
       "    </tr>\n",
       "  </tbody>\n",
       "</table>\n",
       "</div>"
      ],
      "text/plain": [
       "     Beam   RGT  Cycle        Date  Date_num  Ver.   Latitude   Longitude  \\\n",
       "0    gt1l  0461      1  2018-10-28  20181028     1  12.729695  104.512303   \n",
       "227  gt3r  0461      1  2018-10-28  20181028     1  12.700246  104.450221   \n",
       "226  gt3r  0461      1  2018-10-28  20181028     1  12.701124  104.450314   \n",
       "225  gt3r  0461      1  2018-10-28  20181028     1  12.701847  104.450388   \n",
       "224  gt3r  0461      1  2018-10-28  20181028     1  12.702500  104.450451   \n",
       "\n",
       "     SurfaceH         SH_SD      SH_error    OrthoH        WaterD  \n",
       "0   -8.119766  3.402823e+38  3.402823e+38  8.898558  3.402823e+38  \n",
       "227 -8.321230  6.500000e-02  3.402823e+38  8.913179  3.402823e+38  \n",
       "226 -8.297829  6.500000e-02  3.402823e+38  8.937248  3.402823e+38  \n",
       "225 -8.328204  6.500000e-02  3.402823e+38  8.907535  3.402823e+38  \n",
       "224 -8.313114  6.500000e-02  3.402823e+38  8.923317  3.402823e+38  "
      ]
     },
     "execution_count": 10,
     "metadata": {},
     "output_type": "execute_result"
    }
   ],
   "source": [
    "a_tracks.head()"
   ]
  },
  {
   "cell_type": "markdown",
   "metadata": {},
   "source": [
    "#### Function for removing outliers"
   ]
  },
  {
   "cell_type": "code",
   "execution_count": 72,
   "metadata": {},
   "outputs": [],
   "source": [
    "### outliers\n",
    "def out_rmv(df,var):\n",
    "    ### lower (25%)\n",
    "    lwq = df[var].quantile(0.25)\n",
    "    ### upper (75%)\n",
    "    hwq = df[var].quantile(0.75)\n",
    "\n",
    "    ### IQR\n",
    "    iqr = hwq - lwq\n",
    "\n",
    "    lw_out = lwq-1.5*iqr\n",
    "    hw_out = hwq+1.5*iqr\n",
    "\n",
    "    ###LSHoutlier > q0.75 + 1.5 ∗ IQR or LSHoutlier < q0.25 − 1.5 ∗ IQR\n",
    "    return df.loc[(df[var] >= lw_out) & (df[var] <= hw_out)]"
   ]
  },
  {
   "cell_type": "markdown",
   "metadata": {},
   "source": [
    "#### Function for stacking DB without outliers"
   ]
  },
  {
   "cell_type": "code",
   "execution_count": 99,
   "metadata": {},
   "outputs": [],
   "source": [
    "### I made a function for stacking the information\n",
    "def alt13_to_df_beams_out(filename):    \n",
    "    f = h5py.File(filename, 'r')\n",
    "    rgt = str(filename).split(\"_\")[5][0:4]\n",
    "    cycle = int(str(filename).split(\"_\")[5][4:6])\n",
    "    version = int(str(filename).split(\"_\")[5][6:8])\n",
    "    ymd = str(filename).split(\"_\")[4][0:8]\n",
    "    ymd_trans = datetime.datetime(int(ymd[0:4]),int(ymd[4:6]),int(ymd[6:8]))\n",
    "    date = ymd_trans.strftime(\"%Y-%m-%d\")\n",
    "    beam_lst = list(f)[2:-1]\n",
    "    alt13_df = pd.DataFrame()\n",
    "    for beam in beam_lst:\n",
    "        f_beam = f[beam]\n",
    "        lat = f_beam['segment_lat'][:]\n",
    "        long = f_beam['segment_lon'][:]\n",
    "        ws = f_beam['ht_water_surf'][:]\n",
    "        ws_sd = f_beam['stdev_water_surf'][:]\n",
    "        ws_err = f_beam['err_ht_water_surf'][:]\n",
    "        ortho = f_beam['ht_ortho'][:]\n",
    "        wd = f_beam['water_depth'][:]\n",
    "        df_beam = pd.DataFrame({'Beam': beam ,'RGT':rgt,'Cycle': cycle, 'Date':date, 'Date_num':int(ymd),'Ver.':version,\n",
    "                                 'Latitude':lat,'Longitude':long,'SurfaceH':ws,\n",
    "                                'SH_SD':ws_sd, 'SH_error':ws_err,'OrthoH':ortho,\n",
    "                                'WaterD':wd})\n",
    "        alt13_df = alt13_df.append(df_beam, ignore_index = True)\n",
    "    \n",
    "    alt13_df_out = pd.DataFrame()\n",
    "    for beam_type in beam_lst:\n",
    "        df_select = alt13_df.loc[alt13_df['Beam']==beam_type]\n",
    "        alt13_df_out = alt13_df_out.append(out_rmv(df_select,'SurfaceH'), ignore_index = True)\n",
    "        \n",
    "    return alt13_df_out"
   ]
  },
  {
   "cell_type": "code",
   "execution_count": 104,
   "metadata": {},
   "outputs": [],
   "source": [
    "### I made a function for stacking the information\n",
    "def alt13_a_out(db,var2):\n",
    "    alt13_df = pd.DataFrame()\n",
    "    date_list = db['Date_num'].unique()\n",
    "    for prd in date_list:\n",
    "        s_db = db.loc[db['Date_num']==prd]\n",
    "        beam_lst = db['Beam'].unique()\n",
    "        for beam_type in beam_lst:\n",
    "            df_select = s_db.loc[s_db['Beam']==beam_type]\n",
    "            alt13_df = alt13_df.append(out_rmv(df_select,var2), ignore_index = True)\n",
    "    return alt13_df"
   ]
  },
  {
   "cell_type": "code",
   "execution_count": 108,
   "metadata": {},
   "outputs": [],
   "source": [
    "a_tracks_out=alt13_a_out(a_tracks,'SurfaceH')"
   ]
  },
  {
   "cell_type": "markdown",
   "metadata": {},
   "source": [
    "Compared the numbers"
   ]
  },
  {
   "cell_type": "code",
   "execution_count": 109,
   "metadata": {},
   "outputs": [
    {
     "data": {
      "text/plain": [
       "85630"
      ]
     },
     "execution_count": 109,
     "metadata": {},
     "output_type": "execute_result"
    }
   ],
   "source": [
    "len(a_tracks_out)"
   ]
  },
  {
   "cell_type": "code",
   "execution_count": 102,
   "metadata": {},
   "outputs": [
    {
     "data": {
      "text/plain": [
       "88535"
      ]
     },
     "execution_count": 102,
     "metadata": {},
     "output_type": "execute_result"
    }
   ],
   "source": [
    "len(a_tracks)"
   ]
  },
  {
   "cell_type": "markdown",
   "metadata": {},
   "source": [
    "#### Function for making the averaged heights"
   ]
  },
  {
   "cell_type": "code",
   "execution_count": 116,
   "metadata": {},
   "outputs": [
    {
     "name": "stdout",
     "output_type": "stream",
     "text": [
      "-15.073182775619182\n"
     ]
    }
   ],
   "source": [
    "print(statistics.mean(test['SurfaceH']))"
   ]
  },
  {
   "cell_type": "code",
   "execution_count": 118,
   "metadata": {},
   "outputs": [
    {
     "name": "stdout",
     "output_type": "stream",
     "text": [
      "2019-03-01\n"
     ]
    }
   ],
   "source": [
    "print(test['Date'].unique()[0])"
   ]
  },
  {
   "cell_type": "code",
   "execution_count": 123,
   "metadata": {},
   "outputs": [],
   "source": [
    "### I made a function for averaginf the height\n",
    "def alt13_mean(db,var2):\n",
    "    mean_df_list = pd.DataFrame()\n",
    "    date_list = db['Date_num'].unique()\n",
    "    for prd in date_list:\n",
    "        s_db = db.loc[db['Date_num']==prd]\n",
    "        av_height = statistics.mean(s_db[var2])\n",
    "        mean_df = pd.DataFrame({'Av_level':av_height,'Date':s_db['Date'].unique(), 'Date_num':s_db['Date_num'].unique()})\n",
    "        mean_df_list = mean_df_list.append(mean_df, ignore_index = True)\n",
    "    return mean_df_list"
   ]
  },
  {
   "cell_type": "code",
   "execution_count": 126,
   "metadata": {},
   "outputs": [],
   "source": [
    "av_h = alt13_mean(a_tracks_out,'SurfaceH')"
   ]
  },
  {
   "cell_type": "code",
   "execution_count": 129,
   "metadata": {},
   "outputs": [
    {
     "data": {
      "application/vnd.jupyter.widget-view+json": {
       "model_id": "d854d8395f65483ebd600a825d751218",
       "version_major": 2,
       "version_minor": 0
      },
      "text/plain": [
       "Canvas(toolbar=Toolbar(toolitems=[('Home', 'Reset original view', 'home', 'home'), ('Back', 'Back to previous …"
      ]
     },
     "metadata": {},
     "output_type": "display_data"
    }
   ],
   "source": [
    "fig=plt.figure(figsize=(6,4))\n",
    "ax = fig.add_subplot(111)\n",
    "ax.grid()\n",
    "ax.xaxis.set_major_locator(plt.MaxNLocator(5))\n",
    "ax.plot(av_h['Date'],av_h['Av_level'],'+',markersize=4, label='all segements')\n",
    "h_leg=ax.legend()\n",
    "plt.title('Water Surface')\n",
    "ax.set_xlabel('Date')\n",
    "ax.set_ylabel('Water Surface, m')\n",
    "plt.show()"
   ]
  },
  {
   "cell_type": "markdown",
   "metadata": {},
   "source": [
    "Plot segments and segments without outliers"
   ]
  },
  {
   "cell_type": "code",
   "execution_count": 142,
   "metadata": {},
   "outputs": [
    {
     "data": {
      "application/vnd.jupyter.widget-view+json": {
       "model_id": "cb1abfdec9cc46cfb08347ca59f56ab9",
       "version_major": 2,
       "version_minor": 0
      },
      "text/plain": [
       "Canvas(toolbar=Toolbar(toolitems=[('Home', 'Reset original view', 'home', 'home'), ('Back', 'Back to previous …"
      ]
     },
     "metadata": {},
     "output_type": "display_data"
    }
   ],
   "source": [
    "fig=plt.figure(figsize=(10,4))\n",
    "ax = fig.add_subplot(111)\n",
    "ax.grid()\n",
    "ax.xaxis.set_major_locator(plt.MaxNLocator(5))\n",
    "ax.set_ylim([-20,0])\n",
    "ax.plot(a_tracks['Date'],a_tracks['SurfaceH'],'.', color = 'orange', markersize=0.25, label='all segements')\n",
    "ax.plot(a_tracks_out['Date'],a_tracks_out['SurfaceH'],'.', color = 'green',markersize=0.4, label='all segements')\n",
    "ax.plot(av_h['Date'],av_h['Av_level'],'+', color = 'red',markersize=3, label='all segements')\n",
    "h_leg=ax.legend()\n",
    "plt.title('Water Surface')\n",
    "ax.set_xlabel('Date')\n",
    "ax.set_ylabel('Water Surface, m')\n",
    "plt.show()"
   ]
  }
 ],
 "metadata": {
  "kernelspec": {
   "display_name": "Python 3",
   "language": "python",
   "name": "python3"
  },
  "language_info": {
   "codemirror_mode": {
    "name": "ipython",
    "version": 3
   },
   "file_extension": ".py",
   "mimetype": "text/x-python",
   "name": "python",
   "nbconvert_exporter": "python",
   "pygments_lexer": "ipython3",
   "version": "3.7.6"
  }
 },
 "nbformat": 4,
 "nbformat_minor": 4
}
